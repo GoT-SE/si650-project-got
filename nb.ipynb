{
 "cells": [
  {
   "cell_type": "code",
   "execution_count": null,
   "metadata": {},
   "outputs": [],
   "source": [
    "import requests\n",
    "import json\n",
    "from bs4 import BeautifulSoup as bs\n",
    "import numpy as np\n",
    "import sys"
   ]
  },
  {
   "cell_type": "code",
   "execution_count": null,
   "metadata": {
    "scrolled": false
   },
   "outputs": [],
   "source": [
    "page = 'https://www.springfieldspringfield.co.uk/episode_scripts.php?tv-show=game-of-thrones'\n",
    "prefix = 'https://www.springfieldspringfield.co.uk/'\n",
    "\n",
    "JSON_DICTION = {}\n",
    "JSON_FNAME = \"json_cache.json\"\n",
    "\n",
    "def get_episodes():\n",
    "    result = []\n",
    "    info = requests.get(page).text\n",
    "    soup = bs(info, 'html.parser')\n",
    "    season_list = soup.find_all('div', attrs={'class':'season-episodes'})\n",
    "    \n",
    "    for s in season_list:\n",
    "        episode_list = s.find_all('a', attrs={'class':'season-episode-title'})\n",
    "        for e in episode_list:\n",
    "            href = e.get('href')\n",
    "            seid = href[-6:]\n",
    "            url = prefix + href\n",
    "            esoup = bs(requests.get(url).content, 'html.parser')\n",
    "            print(seid)\n",
    "            try:\n",
    "                etext = esoup.find('div', {'class':'scrolling-script-container'}).text.strip().replace('\\r', '').replace('\\n', ' ')\n",
    "                ename = esoup.find('h3').text\n",
    "                document = seid + '\\t' + ename + '\\t' + etext\n",
    "                result.append(document)\n",
    "            except:\n",
    "                print('miss')\n",
    "            \n",
    "    return result"
   ]
  },
  {
   "cell_type": "code",
   "execution_count": null,
   "metadata": {},
   "outputs": [],
   "source": [
    "results = get_episodes()\n",
    "with open('got.dat', 'w+') as f:\n",
    "    for r in results:\n",
    "        f.write(r)\n",
    "        f.write('\\n')"
   ]
  },
  {
   "cell_type": "code",
   "execution_count": null,
   "metadata": {},
   "outputs": [],
   "source": []
  },
  {
   "cell_type": "code",
   "execution_count": null,
   "metadata": {},
   "outputs": [],
   "source": []
  },
  {
   "cell_type": "code",
   "execution_count": null,
   "metadata": {},
   "outputs": [],
   "source": []
  },
  {
   "cell_type": "code",
   "execution_count": null,
   "metadata": {},
   "outputs": [],
   "source": []
  }
 ],
 "metadata": {
  "kernelspec": {
   "display_name": "Python 3",
   "language": "python",
   "name": "python3"
  },
  "language_info": {
   "codemirror_mode": {
    "name": "ipython",
    "version": 3
   },
   "file_extension": ".py",
   "mimetype": "text/x-python",
   "name": "python",
   "nbconvert_exporter": "python",
   "pygments_lexer": "ipython3",
   "version": "3.7.4"
  }
 },
 "nbformat": 4,
 "nbformat_minor": 2
}
