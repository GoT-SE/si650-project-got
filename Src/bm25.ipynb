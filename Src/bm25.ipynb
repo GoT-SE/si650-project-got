{
 "cells": [
  {
   "cell_type": "code",
   "execution_count": 1,
   "metadata": {
    "colab": {
     "base_uri": "https://localhost:8080/",
     "height": 35
    },
    "colab_type": "code",
    "id": "yaxW5FhFLY_0",
    "outputId": "41ea9f8c-d597-4bbc-ae0e-c5857d476b29"
   },
   "outputs": [],
   "source": [
    "import metapy"
   ]
  },
  {
   "cell_type": "code",
   "execution_count": 2,
   "metadata": {
    "colab": {},
    "colab_type": "code",
    "id": "opTnReYJ-Gh2"
   },
   "outputs": [],
   "source": [
    "with open('got/tutorial.toml', 'w') as f:\n",
    "    f.write('type = \"line-corpus\"\\n')\n",
    "    f.write('store-full-text = true\\n')\n",
    "\n",
    "config = \"\"\"prefix = \".\" # tells MeTA where to search for datasets\n",
    "\n",
    "dataset = \"got\" # a subfolder under the prefix directory\n",
    "corpus = \"tutorial.toml\" # a configuration file for the corpus specifying its format & additional args\n",
    "\n",
    "index = \"idx\" # subfolder of the current working directory to place index files\n",
    "\n",
    "stop-words = \"lemur-stopwords.txt\"\n",
    "\n",
    "[[analyzers]]\n",
    "method = \"ngram-word\"\n",
    "ngram = 1\n",
    "filter = \"default-unigram-chain\"\n",
    "\n",
    "[[analyzers]]\n",
    "method = \"ngram-word\"\n",
    "ngram = 2\n",
    "filter = \"default-chain\"\n",
    "\n",
    "[[analyzers]]\n",
    "method = \"ngram-word\"\n",
    "ngram = 3\n",
    "filter = \"default-chain\"\n",
    "\"\"\"\n",
    "\n",
    "with open('got-config.toml', 'w') as f:\n",
    "    f.write(config)"
   ]
  },
  {
   "cell_type": "code",
   "execution_count": 3,
   "metadata": {
    "colab": {},
    "colab_type": "code",
    "id": "QI9x5yMxT-s_"
   },
   "outputs": [],
   "source": [
    "inv_idx = metapy.index.make_inverted_index('got-config.toml')"
   ]
  },
  {
   "cell_type": "code",
   "execution_count": 4,
   "metadata": {
    "colab": {},
    "colab_type": "code",
    "id": "vl340TT5LfqL"
   },
   "outputs": [],
   "source": [
    "import math\n",
    "class BM25(metapy.index.RankingFunction):\n",
    "    def __init__(self, k1 = 1.2, b = 0.2, k3 = 500, delta = 1.0):                                             \n",
    "        self.k1 = k1\n",
    "        self.b = b\n",
    "        self.k3 = k3\n",
    "        self.delta = 1.0\n",
    "        # You *must* invoke the base class __init__() here!\n",
    "        super(BM25, self).__init__()                                        \n",
    "                                                                                 \n",
    "    def score_one(self, sd):\n",
    "        \"\"\"\n",
    "        sd.avg_dl: average document length of the collection\n",
    "        sd.num_docs: total number of documents in the index\n",
    "        sd.total_terms: total number of terms in the index\n",
    "        sd.query_length: the total length of the current query (sum of all term weights)\n",
    "        sd.query_term_weight: query term count (or weight in case of feedback)\n",
    "        sd.doc_count: number of documents that a term t_id appears in\n",
    "        sd.corpus_term_count: number of times a term t_id appears in the collection\n",
    "        sd.doc_term_count: number of times the term appears in the current document\n",
    "        sd.doc_size: total number of terms in the current document\n",
    "        sd.doc_unique_terms: number of unique terms in the current document\n",
    "        \n",
    "        \"\"\"\n",
    "        k1 = self.k1\n",
    "        b = self.b\n",
    "        k3 = self.k3\n",
    "        delta = self.delta\n",
    "        N = sd.num_docs\n",
    "        df = sd.doc_count\n",
    "        ctd = sd.doc_term_count\n",
    "        D = sd.doc_size\n",
    "        avdl = sd.avg_dl\n",
    "        ctq = sd.query_term_weight\n",
    "        \n",
    "#         return math.log((N-df+0.5)/(df+0.5)) * (k1+1)*ctd/(k1*(1-b+b*D/avdl)+ctd)*(k3+1)*ctq/(k3+ctq)\n",
    "        return math.log((N+1)/(df)) * ((k1+1)*ctd/(k1*(1-b+b*D/avdl)+ctd) + delta) * (k3+1)*ctq/(k3+ctq)"
   ]
  },
  {
   "cell_type": "code",
   "execution_count": 5,
   "metadata": {},
   "outputs": [],
   "source": [
    "ranker = BM25()"
   ]
  },
  {
   "cell_type": "code",
   "execution_count": 18,
   "metadata": {
    "colab": {},
    "colab_type": "code",
    "id": "JhYsr14KMHrA"
   },
   "outputs": [],
   "source": [
    "query_input = \"a girl is no one\""
   ]
  },
  {
   "cell_type": "code",
   "execution_count": 19,
   "metadata": {
    "colab": {},
    "colab_type": "code",
    "id": "ZbE3j7E8LsRS"
   },
   "outputs": [],
   "source": [
    "query = metapy.index.Document()\n",
    "query.content(query_input)\n",
    "top_docs = ranker.score(inv_idx, query, num_results=5)"
   ]
  },
  {
   "cell_type": "code",
   "execution_count": 20,
   "metadata": {
    "colab": {},
    "colab_type": "code",
    "id": "jTFOWj2cLwIW"
   },
   "outputs": [
    {
     "name": "stdout",
     "output_type": "stream",
     "text": [
      "1. s05e09\tThe Dance of Dragons\t Is, uh - Girl! -  Tie her up! Are you deaf? Girl! Girl! My lord.\n",
      "\n",
      "2. s03e07\tThe Bear and the Maiden Fair\t Why would a girl see blood and collapse? Well not all girls are like you.\n",
      "\n",
      "3. s02e08\tThe Prince of Winterfell\t Why? For the girls.\n",
      "\n",
      "4. s03e02\tDark Wings, Dark Words\t - Yeah! Girl.\n",
      "\n",
      "5. s02e04\tGarden of Bones\t It seems to me that fate has given us this chance Have you lost your mind? Get out! Do you want to see your girls again? Sansa, more beautiful than ever? And Arya, just as wild as ever? You have Arya, too? Both girls are healthy and safe.\n",
      "\n"
     ]
    }
   ],
   "source": [
    "for num, (d_id, _) in enumerate(top_docs):\n",
    "    content = inv_idx.metadata(d_id).get('content')\n",
    "    print(\"{}. {}\\n\".format(num + 1, content))"
   ]
  },
  {
   "cell_type": "code",
   "execution_count": null,
   "metadata": {
    "colab": {},
    "colab_type": "code",
    "id": "gHy6nEroVqss"
   },
   "outputs": [],
   "source": []
  }
 ],
 "metadata": {
  "colab": {
   "collapsed_sections": [],
   "name": "SI650_project.ipynb",
   "provenance": []
  },
  "kernelspec": {
   "display_name": "Python 3",
   "language": "python",
   "name": "python3"
  },
  "language_info": {
   "codemirror_mode": {
    "name": "ipython",
    "version": 3
   },
   "file_extension": ".py",
   "mimetype": "text/x-python",
   "name": "python",
   "nbconvert_exporter": "python",
   "pygments_lexer": "ipython3",
   "version": "3.7.4"
  }
 },
 "nbformat": 4,
 "nbformat_minor": 1
}
