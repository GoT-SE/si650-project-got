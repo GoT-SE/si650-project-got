{
 "cells": [
  {
   "cell_type": "code",
   "execution_count": 1,
   "metadata": {},
   "outputs": [],
   "source": [
    "from fuzzywuzzy import fuzz, process"
   ]
  },
  {
   "cell_type": "code",
   "execution_count": 2,
   "metadata": {},
   "outputs": [
    {
     "data": {
      "text/plain": [
       "39322"
      ]
     },
     "execution_count": 2,
     "metadata": {},
     "output_type": "execute_result"
    }
   ],
   "source": [
    "with open('got/got.dat', 'r') as f:\n",
    "    docs = f.read()\n",
    "docs = docs.split('\\n')\n",
    "len(docs)"
   ]
  },
  {
   "cell_type": "code",
   "execution_count": 28,
   "metadata": {},
   "outputs": [
    {
     "name": "stdout",
     "output_type": "stream",
     "text": [
      "['s01e01\\tWinter is Coming\\tEasy, boy.']\n"
     ]
    }
   ],
   "source": [
    "query_input = 'YOU KNOW NOTHING'\n",
    "for doc in docs:\n",
    "    doc = doc.lower()\n",
    "print(docs[:1])\n",
    "\n",
    "bests = process.extract(query_input, docs, scorer=fuzz.partial_ratio, limit = 20)"
   ]
  },
  {
   "cell_type": "code",
   "execution_count": 30,
   "metadata": {},
   "outputs": [
    {
     "name": "stdout",
     "output_type": "stream",
     "text": [
      "1. s02e07 A Man Without Honor You know nothing, Jon Snow.: 100\n",
      "2. s03e05 Kissed by Fire Why are you still dressed? You know nothing, Jon Sno-- That thing you did with your mouth-- is that what lords do to their ladies in the South? I don't know.: 100\n",
      "3. s03e07 The Bear and the Maiden Fair You know nothing, Jon Snow.: 100\n",
      "4. s03e07 The Bear and the Maiden Fair - You know nothing-- - Six times in the last thousand years, a King-beyond-the-Wall has attacked the kingdoms.: 100\n",
      "5. s03e10 Mhysa You know nothing, Jon Snow.: 100\n",
      "6. s04e01 Two Swords Robb! The Lannisters send their regards! It's too late! - You know I didn't have a choice - You know nothing, Jon Snow! You're home.: 100\n",
      "7. s04e09 The Watchers on the Wall You know nothing, Jon Snow.: 100\n",
      "8. s05e04 Sons of the Harpy You know nothing, Jon Snow.: 100\n",
      "9. s02e06 The Old Gods and the New You know things? Like what? How to eat dirt? Other things.: 88\n",
      "10. s02e07 A Man Without Honor Do you know anything? - Irri is dead.: 88\n",
      "11. s01e05 The Wolf and the Lion But you know something? I do believe that I have seen you even more recently than you have seen me.: 81\n",
      "12. s01e05 The Wolf and the Lion What do you know of King Robert's bastards? Well, he has more than you, for a start.: 81\n",
      "13. s02e04 Garden of Bones What do you know of this place? Only that the desert around their walls is called the Garden of Bones.: 81\n",
      "14. s02e05 The Ghost of Harrenhal Xaro is our host, but we know nothing about him.: 81\n",
      "15. s03e07 The Bear and the Maiden Fair But how do we know these dragons are just curiosities and not the beasts that brought the whole world to heel? Because we have been told as much by the many experts who serve the realm by counseling the king on matters about which he knows nothing.: 81\n",
      "16. s03e09 The Rains of Castamere - Hodor! Hodor! - Hodor, be quiet! What did you do? Nothing.: 81\n",
      "17. s04e06 The Laws of Gods and Men I know nothing of the sort.: 81\n",
      "18. s04e06 The Laws of Gods and Men What do you know of this? I know that he's guilty.: 81\n",
      "19. s04e07 Mockingbird If you want them to know something else, you'll have to show it to them.: 81\n",
      "20. s05e08 Hardhome He claims he would kill for you and die for you and nothing I ever witnessed gives me reason to doubt him.: 81\n"
     ]
    }
   ],
   "source": [
    "for i, (line, score) in enumerate(bests):\n",
    "    res = line.split('\\t')\n",
    "    print(\"{}. {} {} {}: {}\".format(i+1, res[0].strip(), res[1].strip(), res[2].strip(), score))"
   ]
  },
  {
   "cell_type": "code",
   "execution_count": null,
   "metadata": {},
   "outputs": [],
   "source": []
  }
 ],
 "metadata": {
  "kernelspec": {
   "display_name": "Python 3",
   "language": "python",
   "name": "python3"
  },
  "language_info": {
   "codemirror_mode": {
    "name": "ipython",
    "version": 3
   },
   "file_extension": ".py",
   "mimetype": "text/x-python",
   "name": "python",
   "nbconvert_exporter": "python",
   "pygments_lexer": "ipython3",
   "version": "3.7.4"
  }
 },
 "nbformat": 4,
 "nbformat_minor": 2
}
