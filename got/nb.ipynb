{
 "cells": [
  {
   "cell_type": "code",
   "execution_count": 1,
   "metadata": {},
   "outputs": [],
   "source": [
    "import requests\n",
    "import json\n",
    "from bs4 import BeautifulSoup as bs\n",
    "import numpy as np\n",
    "import sys"
   ]
  },
  {
   "cell_type": "code",
   "execution_count": 42,
   "metadata": {
    "scrolled": false
   },
   "outputs": [],
   "source": [
    "page = 'https://www.springfieldspringfield.co.uk/episode_scripts.php?tv-show=game-of-thrones'\n",
    "prefix = 'https://www.springfieldspringfield.co.uk/'\n",
    "\n",
    "def get_episodes():\n",
    "    result = []\n",
    "    info = requests.get(page).text\n",
    "    soup = bs(info, 'html.parser')\n",
    "    season_list = soup.find_all('div', attrs={'class':'season-episodes'})\n",
    "    \n",
    "    for s in season_list:\n",
    "        episode_list = s.find_all('a', attrs={'class':'season-episode-title'})\n",
    "        for e in episode_list:\n",
    "            href = e.get('href')\n",
    "            seid = href[-6:]\n",
    "            url = prefix + href\n",
    "            esoup = bs(requests.get(url).content, 'html.parser')\n",
    "            print(seid)\n",
    "            try:\n",
    "                etext = esoup.find('div', {'class':'scrolling-script-container'})\n",
    "                for br in etext.find_all(\"br\"):\n",
    "                    br.replace_with(\"\\n\")\n",
    "                etext = etext.text.strip().replace('\\r', '')\n",
    "                ename = esoup.find('h3').text\n",
    "                for text in etext.split('\\n'):\n",
    "                    document = seid + '\\t' + ename + '\\t' + text\n",
    "                    result.append(document)\n",
    "#                     print(document)\n",
    "            except:\n",
    "                print('miss')\n",
    "            \n",
    "    return result"
   ]
  },
  {
   "cell_type": "code",
   "execution_count": 43,
   "metadata": {},
   "outputs": [
    {
     "name": "stdout",
     "output_type": "stream",
     "text": [
      "s01e01\n",
      "s01e02\n",
      "s01e03\n",
      "s01e04\n",
      "s01e05\n",
      "s01e06\n",
      "s01e07\n",
      "s01e08\n",
      "s01e09\n",
      "s01e10\n",
      "s02e01\n",
      "s02e02\n",
      "s02e03\n",
      "s02e04\n",
      "s02e05\n",
      "s02e06\n",
      "s02e07\n",
      "s02e08\n",
      "s02e09\n",
      "s02e10\n",
      "s03e01\n",
      "s03e02\n",
      "s03e03\n",
      "s03e04\n",
      "s03e05\n",
      "s03e06\n",
      "s03e07\n",
      "s03e08\n",
      "s03e09\n",
      "s03e10\n",
      "s04e01\n",
      "s04e02\n",
      "s04e03\n",
      "s04e04\n",
      "s04e05\n",
      "s04e06\n",
      "s04e07\n",
      "s04e08\n",
      "s04e09\n",
      "s04e10\n",
      "s05e00\n",
      "s05e01\n",
      "s05e02\n",
      "s05e03\n",
      "s05e04\n",
      "s05e05\n",
      "s05e06\n",
      "s05e07\n",
      "s05e08\n",
      "s05e09\n",
      "s05e10\n",
      "s06e01\n",
      "s06e02\n",
      "s06e03\n",
      "s06e04\n",
      "s06e05\n",
      "s06e06\n",
      "s06e07\n",
      "s06e08\n",
      "s06e09\n",
      "s06e10\n",
      "s07e00\n",
      "s07e01\n",
      "miss\n",
      "s07e02\n",
      "s07e03\n",
      "s07e04\n",
      "s07e05\n",
      "s07e06\n",
      "s07e07\n",
      "s08e01\n",
      "s08e02\n",
      "s08e03\n",
      "s08e04\n",
      "s08e05\n",
      "s08e06\n",
      "s08e90\n"
     ]
    }
   ],
   "source": [
    "results = get_episodes()\n",
    "with open('got.dat', 'w+') as f:\n",
    "    for r in results:\n",
    "        f.write(r)\n",
    "        f.write('\\n')"
   ]
  },
  {
   "cell_type": "code",
   "execution_count": null,
   "metadata": {},
   "outputs": [],
   "source": []
  },
  {
   "cell_type": "code",
   "execution_count": null,
   "metadata": {},
   "outputs": [],
   "source": []
  },
  {
   "cell_type": "code",
   "execution_count": null,
   "metadata": {},
   "outputs": [],
   "source": []
  },
  {
   "cell_type": "code",
   "execution_count": null,
   "metadata": {},
   "outputs": [],
   "source": []
  }
 ],
 "metadata": {
  "kernelspec": {
   "display_name": "Python 3",
   "language": "python",
   "name": "python3"
  },
  "language_info": {
   "codemirror_mode": {
    "name": "ipython",
    "version": 3
   },
   "file_extension": ".py",
   "mimetype": "text/x-python",
   "name": "python",
   "nbconvert_exporter": "python",
   "pygments_lexer": "ipython3",
   "version": "3.7.4"
  }
 },
 "nbformat": 4,
 "nbformat_minor": 2
}
